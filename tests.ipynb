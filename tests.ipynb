{
 "cells": [
  {
   "cell_type": "code",
   "execution_count": 1,
   "metadata": {},
   "outputs": [],
   "source": [
    "import pandas as pd\n",
    "pd.options.display.max_colwidth = 1000\n",
    "pd.set_option('display.max_colwidth', 1000)\n",
    "pd.set_option('display.max_rows', 1000)\n",
    "pd.set_option('display.max_columns', 1000)\n",
    "pd.set_option('display.width', 1000)\n",
    "pd.set_option('display.float_format', '{:20.2f}'.format)\n",
    "pd.set_option('display.max_colwidth', 1000)\n",
    "pd.set_option('display.max_rows', 1000)\n",
    "pd.set_option('display.max_columns', 1000)\n",
    "from IPython.display import clear_output,display"
   ]
  },
  {
   "cell_type": "code",
   "execution_count": 2,
   "metadata": {},
   "outputs": [],
   "source": [
    "# Load environment variables from .env file\n",
    "from dotenv import load_dotenv\n",
    "\n",
    "# Load .env file\n",
    "load_dotenv()\n",
    "import random\n",
    "\n",
    "import os\n",
    "from vexa import VexaClient\n",
    "\n",
    "import os\n",
    "TOKEN = os.getenv('ADMIN_API_TOKEN')\n",
    "TOKEN = 'vexa-admin-token-2024'\n",
    "#TOKEN ='token'\n",
    "#url = \"http://localhost:18056\"\n",
    "url =  \"http://136.244.91.87\"\n",
    "admin_client = VexaClient(\n",
    "    base_url=url,\n",
    "    admin_key=TOKEN  # From docker-compose.yml\n",
    ")\n",
    "\n",
    "import time"
   ]
  },
  {
   "cell_type": "code",
   "execution_count": 3,
   "metadata": {},
   "outputs": [],
   "source": [
    "meeting_url=\"https://meet.google.com/wtv-apqe-aic\""
   ]
  },
  {
   "cell_type": "code",
   "execution_count": 4,
   "metadata": {},
   "outputs": [],
   "source": [
    "tokens = []"
   ]
  },
  {
   "cell_type": "code",
   "execution_count": 5,
   "metadata": {},
   "outputs": [
    {
     "name": "stdout",
     "output_type": "stream",
     "text": [
      "\n",
      "DEBUG: Making POST request to http://136.244.91.87/admin/users\n",
      "DEBUG: Headers: {'Content-Type': 'application/json', 'X-Admin-API-Key': 'vexa-admin-token-2024'}\n",
      "DEBUG: Params: None\n",
      "DEBUG: JSON data: {'email': '523961@example.com', 'name': 'test'}\n",
      "DEBUG: Response status: 201\n",
      "DEBUG: Response headers: {'date': 'Mon, 14 Jul 2025 11:38:36 GMT, Mon, 14 Jul 2025 11:38:36 GMT', 'server': 'uvicorn, uvicorn', 'content-length': '145', 'content-type': 'application/json'}\n",
      "DEBUG: Response content: {\"email\":\"523961@example.com\",\"name\":\"test\",\"image_url\":null,\"max_concurrent_bots\":1,\"data\":{},\"id\":40,\"created_at\":\"2025-07-14T11:38:36.781769\"}...\n",
      "\n",
      "DEBUG: Making POST request to http://136.244.91.87/admin/users/40/tokens\n",
      "DEBUG: Headers: {'Content-Type': 'application/json', 'X-Admin-API-Key': 'vexa-admin-token-2024'}\n",
      "DEBUG: Params: None\n",
      "DEBUG: JSON data: None\n",
      "DEBUG: Response status: 201\n",
      "DEBUG: Response headers: {'date': 'Mon, 14 Jul 2025 11:38:36 GMT, Mon, 14 Jul 2025 11:38:36 GMT', 'server': 'uvicorn, uvicorn', 'content-length': '115', 'content-type': 'application/json'}\n",
      "DEBUG: Response content: {\"user_id\":40,\"id\":40,\"token\":\"fuTWwew0KKOj5zx47xcV87t64k5AmtMUNLOsPiYd\",\"created_at\":\"2025-07-14T11:38:36.849101\"}...\n",
      "\n",
      "DEBUG: Making PUT request to http://136.244.91.87/user/webhook\n",
      "DEBUG: Headers: {'Content-Type': 'application/json', 'X-API-Key': 'fuTWwew0KKOj5zx47xcV87t64k5AmtMUNLOsPiYd'}\n",
      "DEBUG: Params: None\n",
      "DEBUG: JSON data: {'webhook_url': 'https://webhook-test.com/e79be735cf3e9bc0c98ca068beaac1f3'}\n",
      "DEBUG: Response status: 200\n",
      "DEBUG: Response headers: {'date': 'Mon, 14 Jul 2025 11:38:36 GMT, Mon, 14 Jul 2025 11:38:36 GMT', 'server': 'uvicorn, uvicorn', 'content-length': '218', 'content-type': 'application/json'}\n",
      "DEBUG: Response content: {\"email\":\"523961@example.com\",\"name\":\"test\",\"image_url\":null,\"max_concurrent_bots\":1,\"data\":{\"webhook_url\":\"https://webhook-test.com/e79be735cf3e9bc0c98ca068beaac1f3\"},\"id\":40,\"created_at\":\"2025-07-14T11:38:36.781769\"}...\n",
      "\n",
      "DEBUG: Making POST request to http://136.244.91.87/bots\n",
      "DEBUG: Headers: {'Content-Type': 'application/json', 'X-API-Key': 'fuTWwew0KKOj5zx47xcV87t64k5AmtMUNLOsPiYd'}\n",
      "DEBUG: Params: None\n",
      "DEBUG: JSON data: {'platform': 'google_meet', 'native_meeting_id': 'wtv-apqe-aic', 'bot_name': 'Vexa', 'task': 'transcribe'}\n",
      "DEBUG: Response status: 201\n",
      "DEBUG: Response headers: {'date': 'Mon, 14 Jul 2025 11:38:36 GMT, Mon, 14 Jul 2025 11:38:36 GMT', 'server': 'uvicorn, uvicorn', 'content-length': '376', 'content-type': 'application/json'}\n",
      "DEBUG: Response content: {\"id\":39,\"user_id\":40,\"platform\":\"google_meet\",\"native_meeting_id\":\"wtv-apqe-aic\",\"constructed_meeting_url\":\"https://meet.google.com/wtv-apqe-aic\",\"status\":\"active\",\"bot_container_id\":\"vexa-bot/dispatch-1752493117-bb8f41c8\",\"start_time\":\"2025-07-14T11:38:37.161484\",\"end_time\":null,\"data\":{},\"created_at\":\"2025-07-14T11:38:37.027985\",\"updated_at\":\"2025-07-14T11:38:37.049408\"}...\n"
     ]
    }
   ],
   "source": [
    "for i in range(1):\n",
    "    new_user = admin_client.create_user(email=f\"{random.randint(1, 1000000)}@example.com\", name=\"test\")\n",
    "\n",
    "\n",
    "    user_id = new_user['id']\n",
    "    user_id\n",
    "    token_info = admin_client.create_token(user_id=user_id)\n",
    "    user_api_key = token_info['token']\n",
    "    tokens.append(user_api_key)\n",
    "    client = VexaClient(\n",
    "        base_url=url,\n",
    "        api_key=user_api_key\n",
    "    )\n",
    "    client.set_webhook_url(\"https://webhook-test.com/e79be735cf3e9bc0c98ca068beaac1f3\")\n",
    "\n",
    "    \n",
    "    native_meeting_id = meeting_url.split(\"/\")[-1]  # \"xyz-abcd-123\"\n",
    "    meeting_info = client.request_bot(\n",
    "        platform=\"google_meet\",\n",
    "        native_meeting_id=native_meeting_id,\n",
    "        bot_name=\"Vexa\",\n",
    "    #  language='es',\n",
    "        task = 'transcribe'\n",
    "    )\n",
    "    meeting_id = meeting_info['id']"
   ]
  },
  {
   "cell_type": "code",
   "execution_count": 6,
   "metadata": {},
   "outputs": [
    {
     "data": {
      "text/plain": [
       "40"
      ]
     },
     "execution_count": 6,
     "metadata": {},
     "output_type": "execute_result"
    }
   ],
   "source": [
    "user_id"
   ]
  },
  {
   "cell_type": "code",
   "execution_count": 7,
   "metadata": {},
   "outputs": [],
   "source": [
    "import random"
   ]
  },
  {
   "cell_type": "code",
   "execution_count": 8,
   "metadata": {},
   "outputs": [
    {
     "data": {
      "text/html": [
       "<div>\n",
       "<style scoped>\n",
       "    .dataframe tbody tr th:only-of-type {\n",
       "        vertical-align: middle;\n",
       "    }\n",
       "\n",
       "    .dataframe tbody tr th {\n",
       "        vertical-align: top;\n",
       "    }\n",
       "\n",
       "    .dataframe thead th {\n",
       "        text-align: right;\n",
       "    }\n",
       "</style>\n",
       "<table border=\"1\" class=\"dataframe\">\n",
       "  <thead>\n",
       "    <tr style=\"text-align: right;\">\n",
       "      <th></th>\n",
       "      <th>start</th>\n",
       "      <th>end</th>\n",
       "      <th>text</th>\n",
       "      <th>language</th>\n",
       "      <th>created_at</th>\n",
       "      <th>speaker</th>\n",
       "      <th>absolute_start_time</th>\n",
       "      <th>absolute_end_time</th>\n",
       "    </tr>\n",
       "  </thead>\n",
       "  <tbody>\n",
       "    <tr>\n",
       "      <th>0</th>\n",
       "      <td>0.00</td>\n",
       "      <td>2.00</td>\n",
       "      <td>Thank you very much for your time.</td>\n",
       "      <td>en</td>\n",
       "      <td>None</td>\n",
       "      <td>Dmitriy Grankin</td>\n",
       "      <td>2025-07-14T11:40:29.000741+00:00</td>\n",
       "      <td>2025-07-14T11:40:31.000741+00:00</td>\n",
       "    </tr>\n",
       "    <tr>\n",
       "      <th>1</th>\n",
       "      <td>2.00</td>\n",
       "      <td>4.00</td>\n",
       "      <td>Thank you very much.</td>\n",
       "      <td>en</td>\n",
       "      <td>None</td>\n",
       "      <td>Dmitriy Grankin</td>\n",
       "      <td>2025-07-14T11:40:31.000741+00:00</td>\n",
       "      <td>2025-07-14T11:40:33.000741+00:00</td>\n",
       "    </tr>\n",
       "    <tr>\n",
       "      <th>2</th>\n",
       "      <td>4.00</td>\n",
       "      <td>6.00</td>\n",
       "      <td>Thank you very much.</td>\n",
       "      <td>en</td>\n",
       "      <td>None</td>\n",
       "      <td>Dmitriy Grankin</td>\n",
       "      <td>2025-07-14T11:40:33.000741+00:00</td>\n",
       "      <td>2025-07-14T11:40:35.000741+00:00</td>\n",
       "    </tr>\n",
       "    <tr>\n",
       "      <th>3</th>\n",
       "      <td>4.66</td>\n",
       "      <td>7.66</td>\n",
       "      <td>R, 2, 3, 4, 5, 6, 7,</td>\n",
       "      <td>en</td>\n",
       "      <td>None</td>\n",
       "      <td>Dmitriy Grankin</td>\n",
       "      <td>2025-07-14T11:40:33.660741+00:00</td>\n",
       "      <td>2025-07-14T11:40:36.660741+00:00</td>\n",
       "    </tr>\n",
       "    <tr>\n",
       "      <th>4</th>\n",
       "      <td>7.66</td>\n",
       "      <td>15.11</td>\n",
       "      <td>what is happening, what is happening, I don't understand anything.</td>\n",
       "      <td>en</td>\n",
       "      <td>None</td>\n",
       "      <td>Dmitriy Grankin</td>\n",
       "      <td>2025-07-14T11:40:36.660741+00:00</td>\n",
       "      <td>2025-07-14T11:40:44.110741+00:00</td>\n",
       "    </tr>\n",
       "    <tr>\n",
       "      <th>5</th>\n",
       "      <td>15.11</td>\n",
       "      <td>17.11</td>\n",
       "      <td>Thank you very much.</td>\n",
       "      <td>en</td>\n",
       "      <td>None</td>\n",
       "      <td>Dmitriy Grankin</td>\n",
       "      <td>2025-07-14T11:40:44.110741+00:00</td>\n",
       "      <td>2025-07-14T11:40:46.110741+00:00</td>\n",
       "    </tr>\n",
       "  </tbody>\n",
       "</table>\n",
       "</div>"
      ],
      "text/plain": [
       "                 start                  end                                                                 text language created_at          speaker               absolute_start_time                 absolute_end_time\n",
       "0                 0.00                 2.00                                   Thank you very much for your time.       en       None  Dmitriy Grankin  2025-07-14T11:40:29.000741+00:00  2025-07-14T11:40:31.000741+00:00\n",
       "1                 2.00                 4.00                                                 Thank you very much.       en       None  Dmitriy Grankin  2025-07-14T11:40:31.000741+00:00  2025-07-14T11:40:33.000741+00:00\n",
       "2                 4.00                 6.00                                                 Thank you very much.       en       None  Dmitriy Grankin  2025-07-14T11:40:33.000741+00:00  2025-07-14T11:40:35.000741+00:00\n",
       "3                 4.66                 7.66                                                 R, 2, 3, 4, 5, 6, 7,       en       None  Dmitriy Grankin  2025-07-14T11:40:33.660741+00:00  2025-07-14T11:40:36.660741+00:00\n",
       "4                 7.66                15.11   what is happening, what is happening, I don't understand anything.       en       None  Dmitriy Grankin  2025-07-14T11:40:36.660741+00:00  2025-07-14T11:40:44.110741+00:00\n",
       "5                15.11                17.11                                                 Thank you very much.       en       None  Dmitriy Grankin  2025-07-14T11:40:44.110741+00:00  2025-07-14T11:40:46.110741+00:00"
      ]
     },
     "metadata": {},
     "output_type": "display_data"
    },
    {
     "ename": "KeyboardInterrupt",
     "evalue": "",
     "output_type": "error",
     "traceback": [
      "\u001b[0;31m---------------------------------------------------------------------------\u001b[0m",
      "\u001b[0;31mKeyboardInterrupt\u001b[0m                         Traceback (most recent call last)",
      "Cell \u001b[0;32mIn[8], line 11\u001b[0m\n\u001b[1;32m      9\u001b[0m clear_output()\n\u001b[1;32m     10\u001b[0m display(df\u001b[38;5;241m.\u001b[39msort_values(\u001b[38;5;124m'\u001b[39m\u001b[38;5;124mabsolute_start_time\u001b[39m\u001b[38;5;124m'\u001b[39m)\u001b[38;5;241m.\u001b[39mtail(\u001b[38;5;241m10\u001b[39m))\n\u001b[0;32m---> 11\u001b[0m time\u001b[38;5;241m.\u001b[39msleep(\u001b[38;5;241m1\u001b[39m)\n",
      "\u001b[0;31mKeyboardInterrupt\u001b[0m: "
     ]
    }
   ],
   "source": [
    "user_api_key = tokens[-1]\n",
    "client = VexaClient(\n",
    "        base_url=url,\n",
    "        api_key=user_api_key\n",
    "    )\n",
    "while True:\n",
    "    transcript = client.get_transcript(native_meeting_id=native_meeting_id,platform='google_meet')\n",
    "    df = pd.DataFrame(transcript['segments'])#.sort_values(['created_at','start'])#.drop_duplicates('start',keep='last')\n",
    "    clear_output()\n",
    "    display(df.sort_values('absolute_start_time').tail(10))\n",
    "    time.sleep(1)"
   ]
  },
  {
   "cell_type": "code",
   "execution_count": 43,
   "metadata": {},
   "outputs": [
    {
     "data": {
      "text/plain": [
       "2"
      ]
     },
     "execution_count": 43,
     "metadata": {},
     "output_type": "execute_result"
    }
   ],
   "source": [
    "len(tokens)"
   ]
  },
  {
   "cell_type": "code",
   "execution_count": 9,
   "metadata": {},
   "outputs": [
    {
     "name": "stdout",
     "output_type": "stream",
     "text": [
      "\n",
      "DEBUG: Making DELETE request to http://136.244.91.87/bots/google_meet/wtv-apqe-aic\n",
      "DEBUG: Headers: {'Content-Type': 'application/json', 'X-API-Key': 'fuTWwew0KKOj5zx47xcV87t64k5AmtMUNLOsPiYd'}\n",
      "DEBUG: Params: None\n",
      "DEBUG: JSON data: None\n",
      "DEBUG: Response status: 202\n",
      "DEBUG: Response headers: {'date': 'Mon, 14 Jul 2025 11:41:07 GMT, Mon, 14 Jul 2025 11:41:08 GMT', 'server': 'uvicorn, uvicorn', 'content-length': '59', 'content-type': 'application/json'}\n",
      "DEBUG: Response content: {\"message\":\"Stop request accepted and is being processed.\"}...\n"
     ]
    }
   ],
   "source": [
    "for user_api_key in tokens:\n",
    "    client = VexaClient(\n",
    "            base_url=url,\n",
    "            api_key=user_api_key\n",
    "        )\n",
    "    client.stop_bot(platform=\"google_meet\",native_meeting_id=native_meeting_id)\n",
    "tokens = []"
   ]
  },
  {
   "cell_type": "code",
   "execution_count": 32,
   "metadata": {},
   "outputs": [
    {
     "data": {
      "text/plain": [
       "11"
      ]
     },
     "execution_count": 32,
     "metadata": {},
     "output_type": "execute_result"
    }
   ],
   "source": [
    "user_id"
   ]
  },
  {
   "cell_type": "code",
   "execution_count": 33,
   "metadata": {},
   "outputs": [
    {
     "name": "stdout",
     "output_type": "stream",
     "text": [
      "\n",
      "DEBUG: Making GET request to http://136.244.91.87/bots/status\n",
      "DEBUG: Headers: {'Content-Type': 'application/json', 'X-API-Key': 'Bv70RnDsHnIa30k8Vlt0j2kgLE4EUR5n4cqXGVPK'}\n",
      "DEBUG: Params: None\n",
      "DEBUG: JSON data: None\n",
      "DEBUG: Response status: 200\n",
      "DEBUG: Response headers: {'date': 'Sat, 12 Jul 2025 15:53:26 GMT, Sat, 12 Jul 2025 15:53:26 GMT', 'server': 'uvicorn, uvicorn', 'content-length': '19', 'content-type': 'application/json'}\n",
      "DEBUG: Response content: {\"running_bots\":[]}...\n"
     ]
    }
   ],
   "source": [
    "running_bots = client.get_running_bots_status()"
   ]
  },
  {
   "cell_type": "code",
   "execution_count": 38,
   "metadata": {},
   "outputs": [
    {
     "name": "stdout",
     "output_type": "stream",
     "text": [
      "\n",
      "DEBUG: Making PUT request to http://136.244.91.87/bots/google_meet/wtv-apqe-aic/config\n",
      "DEBUG: Headers: {'Content-Type': 'application/json', 'X-API-Key': 'XjhSO2RRGDikPbWdmq9dZ3pYLvrhfUxoe7GdXnO5'}\n",
      "DEBUG: Params: None\n",
      "DEBUG: JSON data: {'language': 'en', 'task': 'transcribe'}\n",
      "DEBUG: Response status: 202\n",
      "DEBUG: Response headers: {'date': 'Sat, 12 Jul 2025 15:54:20 GMT, Sat, 12 Jul 2025 15:54:20 GMT', 'server': 'uvicorn, uvicorn', 'content-length': '67', 'content-type': 'application/json'}\n",
      "DEBUG: Response content: {\"message\":\"Reconfiguration request accepted and sent to the bot.\"}...\n"
     ]
    },
    {
     "data": {
      "text/plain": [
       "{'message': 'Reconfiguration request accepted and sent to the bot.'}"
      ]
     },
     "execution_count": 38,
     "metadata": {},
     "output_type": "execute_result"
    }
   ],
   "source": [
    "client.update_bot_config(\n",
    "    platform=\"google_meet\",\n",
    "    native_meeting_id=native_meeting_id,\n",
    "    language='en',\n",
    "    task = 'transcribe'\n",
    ")"
   ]
  },
  {
   "cell_type": "code",
   "execution_count": 23,
   "metadata": {},
   "outputs": [
    {
     "name": "stdout",
     "output_type": "stream",
     "text": [
      "\n",
      "DEBUG: Making GET request to http://localhost:18056/bots/status\n",
      "DEBUG: Headers: {'Content-Type': 'application/json', 'X-API-Key': '2GNtUTbWl2vyqtXkFhvAAawQeQ4EDQRzymqqX1dl'}\n",
      "DEBUG: Params: None\n",
      "DEBUG: JSON data: None\n",
      "DEBUG: Response status: 200\n",
      "DEBUG: Response headers: {'date': 'Thu, 19 Jun 2025 08:38:26 GMT, Thu, 19 Jun 2025 08:38:25 GMT', 'server': 'uvicorn, uvicorn', 'content-length': '19', 'content-type': 'application/json'}\n",
      "DEBUG: Response content: {\"running_bots\":[]}...\n"
     ]
    }
   ],
   "source": [
    "running_bots = client.get_running_bots_status()"
   ]
  },
  {
   "cell_type": "code",
   "execution_count": 40,
   "metadata": {},
   "outputs": [
    {
     "name": "stdout",
     "output_type": "stream",
     "text": [
      "\n",
      "DEBUG: Making GET request to http://136.244.91.87/meetings\n",
      "DEBUG: Headers: {'Content-Type': 'application/json', 'X-API-Key': 'XjhSO2RRGDikPbWdmq9dZ3pYLvrhfUxoe7GdXnO5'}\n",
      "DEBUG: Params: None\n",
      "DEBUG: JSON data: None\n",
      "DEBUG: Response status: 200\n",
      "DEBUG: Response headers: {'date': 'Sat, 12 Jul 2025 15:55:05 GMT, Sat, 12 Jul 2025 15:55:05 GMT', 'server': 'uvicorn, uvicorn', 'content-length': '391', 'content-type': 'application/json'}\n",
      "DEBUG: Response content: {\"meetings\":[{\"id\":11,\"user_id\":12,\"platform\":\"google_meet\",\"native_meeting_id\":\"wtv-apqe-aic\",\"constructed_meeting_url\":\"https://meet.google.com/wtv-apqe-aic\",\"status\":\"active\",\"bot_container_id\":\"vexa-bot/dispatch-1752335617-e9ddd0b9\",\"start_time\":\"2025-07-12T15:53:37.118073\",\"end_time\":null,\"data\":{},\"created_at\":\"2025-07-12T15:53:37.011118\",\"updated_at\":\"2025-07-12T15:53:37.025958\"}]}...\n"
     ]
    }
   ],
   "source": [
    "meetings = client.get_meetings()"
   ]
  },
  {
   "cell_type": "markdown",
   "metadata": {},
   "source": []
  },
  {
   "cell_type": "code",
   "execution_count": 41,
   "metadata": {},
   "outputs": [
    {
     "data": {
      "text/plain": [
       "[{'id': 11,\n",
       "  'user_id': 12,\n",
       "  'platform': 'google_meet',\n",
       "  'native_meeting_id': 'wtv-apqe-aic',\n",
       "  'constructed_meeting_url': 'https://meet.google.com/wtv-apqe-aic',\n",
       "  'status': 'active',\n",
       "  'bot_container_id': 'vexa-bot/dispatch-1752335617-e9ddd0b9',\n",
       "  'start_time': '2025-07-12T15:53:37.118073',\n",
       "  'end_time': None,\n",
       "  'data': {},\n",
       "  'created_at': '2025-07-12T15:53:37.011118',\n",
       "  'updated_at': '2025-07-12T15:53:37.025958'}]"
      ]
     },
     "execution_count": 41,
     "metadata": {},
     "output_type": "execute_result"
    }
   ],
   "source": [
    "meetings"
   ]
  },
  {
   "cell_type": "code",
   "execution_count": 42,
   "metadata": {},
   "outputs": [
    {
     "name": "stdout",
     "output_type": "stream",
     "text": [
      "\n",
      "DEBUG: Making PATCH request to http://136.244.91.87/meetings/google_meet/wtv-apqe-aic\n",
      "DEBUG: Headers: {'Content-Type': 'application/json', 'X-API-Key': 'XjhSO2RRGDikPbWdmq9dZ3pYLvrhfUxoe7GdXnO5'}\n",
      "DEBUG: Params: None\n",
      "DEBUG: JSON data: {'data': {'name': 'Test Meeting'}}\n",
      "DEBUG: Response status: 200\n",
      "DEBUG: Response headers: {'date': 'Sat, 12 Jul 2025 15:55:11 GMT, Sat, 12 Jul 2025 15:55:11 GMT', 'server': 'uvicorn, uvicorn', 'content-length': '397', 'content-type': 'application/json'}\n",
      "DEBUG: Response content: {\"id\":11,\"user_id\":12,\"platform\":\"google_meet\",\"native_meeting_id\":\"wtv-apqe-aic\",\"constructed_meeting_url\":\"https://meet.google.com/wtv-apqe-aic\",\"status\":\"active\",\"bot_container_id\":\"vexa-bot/dispatch-1752335617-e9ddd0b9\",\"start_time\":\"2025-07-12T15:53:37.118073\",\"end_time\":null,\"data\":{\"name\":\"Test Meeting\"},\"created_at\":\"2025-07-12T15:53:37.011118\",\"updated_at\":\"2025-07-12T15:55:12.035973\"}...\n"
     ]
    },
    {
     "data": {
      "text/plain": [
       "{'id': 11,\n",
       " 'user_id': 12,\n",
       " 'platform': 'google_meet',\n",
       " 'native_meeting_id': 'wtv-apqe-aic',\n",
       " 'constructed_meeting_url': 'https://meet.google.com/wtv-apqe-aic',\n",
       " 'status': 'active',\n",
       " 'bot_container_id': 'vexa-bot/dispatch-1752335617-e9ddd0b9',\n",
       " 'start_time': '2025-07-12T15:53:37.118073',\n",
       " 'end_time': None,\n",
       " 'data': {'name': 'Test Meeting'},\n",
       " 'created_at': '2025-07-12T15:53:37.011118',\n",
       " 'updated_at': '2025-07-12T15:55:12.035973'}"
      ]
     },
     "execution_count": 42,
     "metadata": {},
     "output_type": "execute_result"
    }
   ],
   "source": [
    "client.update_meeting_data(\n",
    "    platform=\"google_meet\",\n",
    "    native_meeting_id=native_meeting_id,\n",
    "    name=\"Test Meeting\",\n",
    ")"
   ]
  },
  {
   "cell_type": "code",
   "execution_count": 27,
   "metadata": {},
   "outputs": [
    {
     "name": "stdout",
     "output_type": "stream",
     "text": [
      "\n",
      "DEBUG: Making DELETE request to http://localhost:18056/meetings/google_meet/xdy-txjo-fyh\n",
      "DEBUG: Headers: {'Content-Type': 'application/json', 'X-API-Key': '2GNtUTbWl2vyqtXkFhvAAawQeQ4EDQRzymqqX1dl'}\n",
      "DEBUG: Params: None\n",
      "DEBUG: JSON data: None\n",
      "DEBUG: Response status: 200\n",
      "DEBUG: Response headers: {'date': 'Thu, 19 Jun 2025 08:38:35 GMT, Thu, 19 Jun 2025 08:38:35 GMT', 'server': 'uvicorn, uvicorn', 'content-length': '88', 'content-type': 'application/json'}\n",
      "DEBUG: Response content: {\"message\":\"Meeting google_meet/xdy-txjo-fyh and all its transcripts have been deleted\"}...\n"
     ]
    },
    {
     "data": {
      "text/plain": [
       "{'message': 'Meeting google_meet/xdy-txjo-fyh and all its transcripts have been deleted'}"
      ]
     },
     "execution_count": 27,
     "metadata": {},
     "output_type": "execute_result"
    }
   ],
   "source": [
    "client.delete_meeting(\n",
    "    platform=\"google_meet\",\n",
    "    native_meeting_id=native_meeting_id,\n",
    ")"
   ]
  },
  {
   "cell_type": "code",
   "execution_count": null,
   "metadata": {},
   "outputs": [],
   "source": []
  }
 ],
 "metadata": {
  "kernelspec": {
   "display_name": "langchain",
   "language": "python",
   "name": "python3"
  },
  "language_info": {
   "codemirror_mode": {
    "name": "ipython",
    "version": 3
   },
   "file_extension": ".py",
   "mimetype": "text/x-python",
   "name": "python",
   "nbconvert_exporter": "python",
   "pygments_lexer": "ipython3",
   "version": "3.11.2"
  }
 },
 "nbformat": 4,
 "nbformat_minor": 2
}
