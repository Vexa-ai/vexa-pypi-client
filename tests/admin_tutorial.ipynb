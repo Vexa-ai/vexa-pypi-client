{
 "cells": [
  {
   "cell_type": "code",
   "execution_count": null,
   "id": "fd210606",
   "metadata": {},
   "outputs": [],
   "source": [
    "import sys\n",
    "sys.path.append('../vexa_client')\n",
    "from vexa import VexaClient, parse_url\n",
    "from test_funcs import *\n",
    "\n",
    "from IPython.display import clear_output,display\n",
    "\n",
    "import random"
   ]
  },
  {
   "cell_type": "code",
   "execution_count": null,
   "id": "3529f72a",
   "metadata": {},
   "outputs": [],
   "source": [
    "\n",
    "import os\n",
    "TOKEN = 'token'\n",
    "url = \"http://localhost:18056\""
   ]
  },
  {
   "cell_type": "code",
   "execution_count": null,
   "id": "8cfec65e",
   "metadata": {},
   "outputs": [],
   "source": [
    "\n",
    "adm_client = VexaClient(\n",
    "    base_url=url,\n",
    "    admin_key=TOKEN)\n",
    "\n",
    "user_client = create_user_client(adm_client)"
   ]
  },
  {
   "cell_type": "code",
   "execution_count": null,
   "id": "be40805a",
   "metadata": {},
   "outputs": [],
   "source": []
  },
  {
   "cell_type": "code",
   "execution_count": null,
   "id": "43e14ff9",
   "metadata": {},
   "outputs": [],
   "source": [
    "\n",
    "meeting_url = 'https://meet.google.com/wtv-apqe-aic'\n",
    "platform, meeting_id,meeting_password = parse_url(meeting_url)"
   ]
  },
  {
   "cell_type": "code",
   "execution_count": null,
   "id": "30b26af9",
   "metadata": {},
   "outputs": [],
   "source": [
    "user_client._api_key"
   ]
  },
  {
   "cell_type": "code",
   "execution_count": null,
   "id": "9ad66eeb",
   "metadata": {},
   "outputs": [],
   "source": [
    "meeting_info = user_client.request_bot(platform, meeting_id, meeting_password)"
   ]
  },
  {
   "cell_type": "code",
   "execution_count": null,
   "id": "028b3a01",
   "metadata": {},
   "outputs": [],
   "source": [
    "get_transcript(user_client,platform=platform, native_meeting_id=meeting_id)"
   ]
  },
  {
   "cell_type": "code",
   "execution_count": null,
   "metadata": {},
   "outputs": [],
   "source": []
  },
  {
   "cell_type": "code",
   "execution_count": null,
   "id": "775756df",
   "metadata": {},
   "outputs": [],
   "source": [
    "adm_client = VexaClient(\n",
    "    base_url=url,\n",
    "    admin_key=TOKEN  # From docker-compose.yml\n",
    ")"
   ]
  },
  {
   "cell_type": "code",
   "execution_count": null,
   "id": "6228ae6e",
   "metadata": {},
   "outputs": [],
   "source": [
    "user_client = create_user_client(adm_client)"
   ]
  },
  {
   "cell_type": "code",
   "execution_count": null,
   "id": "8d42c10b",
   "metadata": {},
   "outputs": [],
   "source": [
    "user_client.create_token()"
   ]
  },
  {
   "cell_type": "code",
   "execution_count": null,
   "id": "6161b992",
   "metadata": {},
   "outputs": [],
   "source": [
    "meeting_url = 'https://meet.google.com/wtv-apqe-aic'"
   ]
  },
  {
   "cell_type": "code",
   "execution_count": null,
   "id": "862dd62a",
   "metadata": {},
   "outputs": [],
   "source": [
    "meeting_args = parse_url(meeting_url)"
   ]
  },
  {
   "cell_type": "code",
   "execution_count": null,
   "id": "a3008154",
   "metadata": {},
   "outputs": [],
   "source": [
    "user_client.api_key"
   ]
  },
  {
   "cell_type": "code",
   "execution_count": null,
   "id": "ce9d14cf",
   "metadata": {},
   "outputs": [],
   "source": [
    "user_client.request_bot(*meeting_args)"
   ]
  },
  {
   "cell_type": "code",
   "execution_count": null,
   "id": "719422b1",
   "metadata": {},
   "outputs": [],
   "source": []
  }
 ],
 "metadata": {
  "kernelspec": {
   "display_name": "vexa",
   "language": "python",
   "name": "python3"
  },
  "language_info": {
   "codemirror_mode": {
    "name": "ipython",
    "version": 3
   },
   "file_extension": ".py",
   "mimetype": "text/x-python",
   "name": "python",
   "nbconvert_exporter": "python",
   "pygments_lexer": "ipython3",
   "version": "3.11.10"
  }
 },
 "nbformat": 4,
 "nbformat_minor": 5
}
