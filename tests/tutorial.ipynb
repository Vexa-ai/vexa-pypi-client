{
 "cells": [
  {
   "cell_type": "markdown",
   "metadata": {},
   "source": [
    "##### 1. Install and import Vexa\n"
   ]
  },
  {
   "cell_type": "code",
   "execution_count": 1,
   "metadata": {},
   "outputs": [
    {
     "name": "stdout",
     "output_type": "stream",
     "text": [
      "Requirement already satisfied: vexa-client in /home/dima/anaconda3/envs/langchain/lib/python3.11/site-packages (0.5.0)\n",
      "Requirement already satisfied: requests>=2.25.0 in /home/dima/anaconda3/envs/langchain/lib/python3.11/site-packages (from vexa-client) (2.32.3)\n",
      "Requirement already satisfied: charset-normalizer<4,>=2 in /home/dima/anaconda3/envs/langchain/lib/python3.11/site-packages (from requests>=2.25.0->vexa-client) (2.1.1)\n",
      "Requirement already satisfied: idna<4,>=2.5 in /home/dima/anaconda3/envs/langchain/lib/python3.11/site-packages (from requests>=2.25.0->vexa-client) (2.8)\n",
      "Requirement already satisfied: urllib3<3,>=1.21.1 in /home/dima/anaconda3/envs/langchain/lib/python3.11/site-packages (from requests>=2.25.0->vexa-client) (2.2.3)\n",
      "Requirement already satisfied: certifi>=2017.4.17 in /home/dima/anaconda3/envs/langchain/lib/python3.11/site-packages (from requests>=2.25.0->vexa-client) (2024.2.2)\n"
     ]
    }
   ],
   "source": [
    "!pip install vexa-client"
   ]
  },
  {
   "cell_type": "code",
   "execution_count": 9,
   "metadata": {},
   "outputs": [],
   "source": [
    "from vexa_client import VexaClient"
   ]
  },
  {
   "cell_type": "markdown",
   "metadata": {},
   "source": [
    "##### 2. aquire API token from [Vexa](https://vexa.ai/dashboard/api-keys)"
   ]
  },
  {
   "cell_type": "code",
   "execution_count": null,
   "metadata": {},
   "outputs": [],
   "source": [
    "TOKEN = 'YOUR_API_KEY'"
   ]
  },
  {
   "cell_type": "code",
   "execution_count": 14,
   "metadata": {},
   "outputs": [],
   "source": [
    "client = VexaClient(\n",
    "        api_key=TOKEN\n",
    "    )"
   ]
  },
  {
   "cell_type": "markdown",
   "metadata": {},
   "source": [
    "##### 3. send  bot to your meeting"
   ]
  },
  {
   "cell_type": "code",
   "execution_count": 16,
   "metadata": {},
   "outputs": [],
   "source": [
    "meeting_url=\"https://meet.google.com/wtv-apqe-aic\""
   ]
  },
  {
   "cell_type": "code",
   "execution_count": 25,
   "metadata": {},
   "outputs": [
    {
     "name": "stdout",
     "output_type": "stream",
     "text": [
      "\n",
      "DEBUG: Making POST request to http://localhost:8056/bots\n",
      "DEBUG: Headers: {'Content-Type': 'application/json', 'X-API-Key': '6aYaAoyL1256dsCzGlDt2rT1ItvNW3ORCsJk7lRR'}\n",
      "DEBUG: Params: None\n",
      "DEBUG: JSON data: {'platform': 'google_meet', 'native_meeting_id': 'wtv-apqe-aic', 'bot_name': 'Vexa'}\n",
      "DEBUG: Response status: 201\n",
      "DEBUG: Response headers: {'date': 'Tue, 15 Jul 2025 12:57:41 GMT, Tue, 15 Jul 2025 12:57:41 GMT', 'server': 'uvicorn, uvicorn', 'content-length': '404', 'content-type': 'application/json'}\n",
      "DEBUG: Response content: {\"id\":3556,\"user_id\":3,\"platform\":\"google_meet\",\"native_meeting_id\":\"wtv-apqe-aic\",\"constructed_meeting_url\":\"https://meet.google.com/wtv-apqe-aic\",\"status\":\"active\",\"bot_container_id\":\"09e25ee222d9d7ba18294ae2cff5b5ee8758038fdd0e549810e6269c18b01a83\",\"start_time\":\"2025-07-15T12:57:42.064842\",\"end_time\":null,\"data\":{},\"created_at\":\"2025-07-15T12:57:41.796352\",\"updated_at\":\"2025-07-15T12:57:41.803271\"}...\n"
     ]
    }
   ],
   "source": [
    "native_meeting_id = meeting_url.split(\"/\")[-1] \n",
    "meeting_info = client.request_bot(\n",
    "    platform=\"google_meet\",\n",
    "    native_meeting_id=native_meeting_id,\n",
    "    bot_name=\"Vexa\",\n",
    ")"
   ]
  },
  {
   "cell_type": "markdown",
   "metadata": {},
   "source": [
    "##### 4. wait 10 seconds for the bot to join the meeting, admit the bot, then start speaking"
   ]
  },
  {
   "cell_type": "code",
   "execution_count": 26,
   "metadata": {},
   "outputs": [
    {
     "name": "stdout",
     "output_type": "stream",
     "text": [
      "\n",
      "DEBUG: Making GET request to http://localhost:8056/transcripts/google_meet/wtv-apqe-aic\n",
      "DEBUG: Headers: {'Content-Type': 'application/json', 'X-API-Key': '6aYaAoyL1256dsCzGlDt2rT1ItvNW3ORCsJk7lRR'}\n",
      "DEBUG: Params: None\n",
      "DEBUG: JSON data: None\n",
      "DEBUG: Response status: 200\n",
      "DEBUG: Response headers: {'date': 'Tue, 15 Jul 2025 12:58:00 GMT, Tue, 15 Jul 2025 12:58:00 GMT', 'server': 'uvicorn, uvicorn', 'content-length': '456', 'content-type': 'application/json'}\n",
      "DEBUG: Response content: {\"id\":3556,\"platform\":\"google_meet\",\"native_meeting_id\":\"wtv-apqe-aic\",\"constructed_meeting_url\":\"https://meet.google.com/wtv-apqe-aic\",\"status\":\"active\",\"start_time\":\"2025-07-15T12:57:42.064842\",\"end_time\":null,\"segments\":[{\"start\":0.0,\"end\":1.765,\"text\":\" Let's do the system.\",\"language\":\"en\",\"created_at\":null,\"speaker\":\"Dmitriy Grankin\",\"absolute_start_time\":\"2025-07-15T12:57:59.260759+00:00\",\"absolute_end_time\":\"2025-07-15T12:58:01.025759+00:00\"}]}...\n"
     ]
    },
    {
     "data": {
      "text/plain": [
       "{'id': 3556,\n",
       " 'platform': 'google_meet',\n",
       " 'native_meeting_id': 'wtv-apqe-aic',\n",
       " 'constructed_meeting_url': 'https://meet.google.com/wtv-apqe-aic',\n",
       " 'status': 'active',\n",
       " 'start_time': '2025-07-15T12:57:42.064842',\n",
       " 'end_time': None,\n",
       " 'segments': [{'start': 0.0,\n",
       "   'end': 1.765,\n",
       "   'text': \" Let's do the system.\",\n",
       "   'language': 'en',\n",
       "   'created_at': None,\n",
       "   'speaker': 'Dmitriy Grankin',\n",
       "   'absolute_start_time': '2025-07-15T12:57:59.260759+00:00',\n",
       "   'absolute_end_time': '2025-07-15T12:58:01.025759+00:00'}]}"
      ]
     },
     "execution_count": 26,
     "metadata": {},
     "output_type": "execute_result"
    }
   ],
   "source": [
    "transcript = client.get_transcript(native_meeting_id=native_meeting_id,platform='google_meet')\n",
    "transcript"
   ]
  },
  {
   "cell_type": "markdown",
   "metadata": {},
   "source": [
    "#### real time updated transcript example"
   ]
  },
  {
   "cell_type": "code",
   "execution_count": 27,
   "metadata": {},
   "outputs": [
    {
     "data": {
      "text/html": [
       "<div>\n",
       "<style scoped>\n",
       "    .dataframe tbody tr th:only-of-type {\n",
       "        vertical-align: middle;\n",
       "    }\n",
       "\n",
       "    .dataframe tbody tr th {\n",
       "        vertical-align: top;\n",
       "    }\n",
       "\n",
       "    .dataframe thead th {\n",
       "        text-align: right;\n",
       "    }\n",
       "</style>\n",
       "<table border=\"1\" class=\"dataframe\">\n",
       "  <thead>\n",
       "    <tr style=\"text-align: right;\">\n",
       "      <th></th>\n",
       "      <th>start</th>\n",
       "      <th>end</th>\n",
       "      <th>text</th>\n",
       "      <th>language</th>\n",
       "      <th>created_at</th>\n",
       "      <th>speaker</th>\n",
       "      <th>absolute_start_time</th>\n",
       "      <th>absolute_end_time</th>\n",
       "    </tr>\n",
       "  </thead>\n",
       "  <tbody>\n",
       "    <tr>\n",
       "      <th>0</th>\n",
       "      <td>0.00</td>\n",
       "      <td>10.960</td>\n",
       "      <td>from the system where it works and hopefully ...</td>\n",
       "      <td>en</td>\n",
       "      <td>None</td>\n",
       "      <td>Dmitriy Grankin</td>\n",
       "      <td>2025-07-15T12:57:59.260759+00:00</td>\n",
       "      <td>2025-07-15T12:58:10.220759+00:00</td>\n",
       "    </tr>\n",
       "    <tr>\n",
       "      <th>1</th>\n",
       "      <td>10.96</td>\n",
       "      <td>21.960</td>\n",
       "      <td>the system 1 2 3 4 5 6 7. Really good. I am h...</td>\n",
       "      <td>en</td>\n",
       "      <td>None</td>\n",
       "      <td>Dmitriy Grankin</td>\n",
       "      <td>2025-07-15T12:58:10.220759+00:00</td>\n",
       "      <td>2025-07-15T12:58:21.220759+00:00</td>\n",
       "    </tr>\n",
       "    <tr>\n",
       "      <th>2</th>\n",
       "      <td>21.96</td>\n",
       "      <td>23.126</td>\n",
       "      <td>Thank you.</td>\n",
       "      <td>en</td>\n",
       "      <td>None</td>\n",
       "      <td>Dmitriy Grankin</td>\n",
       "      <td>2025-07-15T12:58:21.220759+00:00</td>\n",
       "      <td>2025-07-15T12:58:22.386759+00:00</td>\n",
       "    </tr>\n",
       "    <tr>\n",
       "      <th>3</th>\n",
       "      <td>22.36</td>\n",
       "      <td>24.360</td>\n",
       "      <td>Thank you.</td>\n",
       "      <td>en</td>\n",
       "      <td>None</td>\n",
       "      <td>Dmitriy Grankin</td>\n",
       "      <td>2025-07-15T12:58:21.620759+00:00</td>\n",
       "      <td>2025-07-15T12:58:23.620759+00:00</td>\n",
       "    </tr>\n",
       "  </tbody>\n",
       "</table>\n",
       "</div>"
      ],
      "text/plain": [
       "   start     end                                               text language  \\\n",
       "0   0.00  10.960   from the system where it works and hopefully ...       en   \n",
       "1  10.96  21.960   the system 1 2 3 4 5 6 7. Really good. I am h...       en   \n",
       "2  21.96  23.126                                         Thank you.       en   \n",
       "3  22.36  24.360                                         Thank you.       en   \n",
       "\n",
       "  created_at          speaker               absolute_start_time  \\\n",
       "0       None  Dmitriy Grankin  2025-07-15T12:57:59.260759+00:00   \n",
       "1       None  Dmitriy Grankin  2025-07-15T12:58:10.220759+00:00   \n",
       "2       None  Dmitriy Grankin  2025-07-15T12:58:21.220759+00:00   \n",
       "3       None  Dmitriy Grankin  2025-07-15T12:58:21.620759+00:00   \n",
       "\n",
       "                  absolute_end_time  \n",
       "0  2025-07-15T12:58:10.220759+00:00  \n",
       "1  2025-07-15T12:58:21.220759+00:00  \n",
       "2  2025-07-15T12:58:22.386759+00:00  \n",
       "3  2025-07-15T12:58:23.620759+00:00  "
      ]
     },
     "metadata": {},
     "output_type": "display_data"
    },
    {
     "ename": "KeyboardInterrupt",
     "evalue": "",
     "output_type": "error",
     "traceback": [
      "\u001b[0;31m---------------------------------------------------------------------------\u001b[0m",
      "\u001b[0;31mKeyboardInterrupt\u001b[0m                         Traceback (most recent call last)",
      "Cell \u001b[0;32mIn[27], line 12\u001b[0m\n\u001b[1;32m     10\u001b[0m clear_output()\n\u001b[1;32m     11\u001b[0m display(df\u001b[38;5;241m.\u001b[39msort_values(\u001b[38;5;124m'\u001b[39m\u001b[38;5;124mabsolute_start_time\u001b[39m\u001b[38;5;124m'\u001b[39m)\u001b[38;5;241m.\u001b[39mtail(\u001b[38;5;241m10\u001b[39m))\n\u001b[0;32m---> 12\u001b[0m time\u001b[38;5;241m.\u001b[39msleep(\u001b[38;5;241m1\u001b[39m)\n",
      "\u001b[0;31mKeyboardInterrupt\u001b[0m: "
     ]
    }
   ],
   "source": [
    "\n",
    "\n",
    "import pandas as pd\n",
    "import time\n",
    "from IPython.display import clear_output, display\n",
    "\n",
    "\n",
    "\n",
    "while True:\n",
    "    transcript = client.get_transcript(native_meeting_id=native_meeting_id,platform='google_meet')\n",
    "    df = pd.DataFrame(transcript['segments'])#.sort_values(['created_at','start'])#.drop_duplicates('start',keep='last')\n",
    "    clear_output()\n",
    "    display(df.sort_values('absolute_start_time').tail(10))\n",
    "    time.sleep(1)"
   ]
  },
  {
   "cell_type": "markdown",
   "metadata": {},
   "source": [
    "#### try real time translation. Change the language of output and see translation is real time updated"
   ]
  },
  {
   "cell_type": "code",
   "execution_count": null,
   "metadata": {},
   "outputs": [
    {
     "name": "stdout",
     "output_type": "stream",
     "text": [
      "\n",
      "DEBUG: Making PUT request to http://localhost:8056/bots/google_meet/wtv-apqe-aic/config\n",
      "DEBUG: Headers: {'Content-Type': 'application/json', 'X-API-Key': '6aYaAoyL1256dsCzGlDt2rT1ItvNW3ORCsJk7lRR'}\n",
      "DEBUG: Params: None\n",
      "DEBUG: JSON data: {'language': 'es'}\n",
      "DEBUG: Response status: 202\n",
      "DEBUG: Response headers: {'date': 'Tue, 15 Jul 2025 12:58:28 GMT, Tue, 15 Jul 2025 12:58:29 GMT', 'server': 'uvicorn, uvicorn', 'content-length': '67', 'content-type': 'application/json'}\n",
      "DEBUG: Response content: {\"message\":\"Reconfiguration request accepted and sent to the bot.\"}...\n"
     ]
    },
    {
     "data": {
      "text/plain": [
       "{'message': 'Reconfiguration request accepted and sent to the bot.'}"
      ]
     },
     "execution_count": 28,
     "metadata": {},
     "output_type": "execute_result"
    }
   ],
   "source": [
    "client.update_bot_config(\n",
    "    platform=\"google_meet\",\n",
    "    native_meeting_id=native_meeting_id,\n",
    "    language='es' # <--- change to the target language\n",
    ")"
   ]
  },
  {
   "cell_type": "markdown",
   "metadata": {},
   "source": [
    "#### 5. stop the bot and delete your meeting"
   ]
  },
  {
   "cell_type": "code",
   "execution_count": 24,
   "metadata": {},
   "outputs": [
    {
     "name": "stdout",
     "output_type": "stream",
     "text": [
      "\n",
      "DEBUG: Making DELETE request to http://localhost:8056/bots/google_meet/wtv-apqe-aic\n",
      "DEBUG: Headers: {'Content-Type': 'application/json', 'X-API-Key': '6aYaAoyL1256dsCzGlDt2rT1ItvNW3ORCsJk7lRR'}\n",
      "DEBUG: Params: None\n",
      "DEBUG: JSON data: None\n",
      "DEBUG: Response status: 202\n",
      "DEBUG: Response headers: {'date': 'Tue, 15 Jul 2025 12:57:34 GMT, Tue, 15 Jul 2025 12:57:34 GMT', 'server': 'uvicorn, uvicorn', 'content-length': '59', 'content-type': 'application/json'}\n",
      "DEBUG: Response content: {\"message\":\"Stop request accepted and is being processed.\"}...\n"
     ]
    },
    {
     "data": {
      "text/plain": [
       "{'message': 'Stop request accepted and is being processed.'}"
      ]
     },
     "execution_count": 24,
     "metadata": {},
     "output_type": "execute_result"
    }
   ],
   "source": [
    "client.stop_bot(platform=\"google_meet\",native_meeting_id=native_meeting_id)"
   ]
  },
  {
   "cell_type": "code",
   "execution_count": 41,
   "metadata": {},
   "outputs": [
    {
     "name": "stdout",
     "output_type": "stream",
     "text": [
      "\n",
      "DEBUG: Making GET request to https://gateway.dev.vexa.ai/meetings\n",
      "DEBUG: Headers: {'Content-Type': 'application/json', 'X-API-Key': '6aYaAoyL1256dsCzGlDt2rT1ItvNW3ORCsJk7lRR'}\n",
      "DEBUG: Params: None\n",
      "DEBUG: JSON data: None\n",
      "DEBUG: Response status: 200\n",
      "DEBUG: Response headers: {'Server': 'nginx/1.18.0 (Ubuntu)', 'Date': 'Mon, 14 Jul 2025 12:02:57 GMT', 'Content-Type': 'application/json', 'Content-Length': '12821', 'Connection': 'keep-alive'}\n",
      "DEBUG: Response content: {\"meetings\":[{\"id\":3518,\"user_id\":3,\"platform\":\"google_meet\",\"native_meeting_id\":\"wtv-apqe-aic\",\"constructed_meeting_url\":\"https://meet.google.com/wtv-apqe-aic\",\"status\":\"completed\",\"bot_container_id\":\"8726cf21dbfcbc1bf191e502cb7b4719b9a1b1578a0babbb8e4d1a34ba7d5fbc\",\"start_time\":\"2025-07-14T11:45:19.078307\",\"end_time\":\"2025-07-14T12:02:24.254986\",\"data\":{\"languages\":[\"en\",\"es\"],\"participants\":[\"Dmitriy Grankin\"]},\"created_at\":\"2025-07-14T11:45:18.835877\",\"updated_at\":\"2025-07-14T12:02:24.267411...\n"
     ]
    }
   ],
   "source": [
    "meetings = client.get_meetings()"
   ]
  },
  {
   "cell_type": "code",
   "execution_count": 21,
   "metadata": {},
   "outputs": [
    {
     "name": "stdout",
     "output_type": "stream",
     "text": [
      "\n",
      "DEBUG: Making DELETE request to https://gateway.dev.vexa.ai/meetings/google_meet/wtv-apqe-aic\n",
      "DEBUG: Headers: {'Content-Type': 'application/json', 'X-API-Key': '6aYaAoyL1256dsCzGlDt2rT1ItvNW3ORCsJk7lRR'}\n",
      "DEBUG: Params: None\n",
      "DEBUG: JSON data: None\n",
      "DEBUG: Response status: 200\n",
      "DEBUG: Response headers: {'Server': 'nginx/1.18.0 (Ubuntu)', 'Date': 'Tue, 15 Jul 2025 11:43:05 GMT', 'Content-Type': 'application/json', 'Content-Length': '88', 'Connection': 'keep-alive'}\n",
      "DEBUG: Response content: {\"message\":\"Meeting google_meet/wtv-apqe-aic and all its transcripts have been deleted\"}...\n"
     ]
    },
    {
     "data": {
      "text/plain": [
       "{'message': 'Meeting google_meet/wtv-apqe-aic and all its transcripts have been deleted'}"
      ]
     },
     "execution_count": 21,
     "metadata": {},
     "output_type": "execute_result"
    }
   ],
   "source": [
    "client.delete_meeting(\n",
    "    platform=\"google_meet\",\n",
    "    native_meeting_id=native_meeting_id,\n",
    ")"
   ]
  }
 ],
 "metadata": {
  "kernelspec": {
   "display_name": "langchain",
   "language": "python",
   "name": "python3"
  },
  "language_info": {
   "codemirror_mode": {
    "name": "ipython",
    "version": 3
   },
   "file_extension": ".py",
   "mimetype": "text/x-python",
   "name": "python",
   "nbconvert_exporter": "python",
   "pygments_lexer": "ipython3",
   "version": "3.11.2"
  }
 },
 "nbformat": 4,
 "nbformat_minor": 2
}
